{
  "nbformat": 4,
  "nbformat_minor": 0,
  "metadata": {
    "colab": {
      "name": "AssignmentDay6.ipynb",
      "provenance": [],
      "collapsed_sections": []
    },
    "kernelspec": {
      "name": "python3",
      "display_name": "Python 3"
    }
  },
  "cells": [
    {
      "cell_type": "code",
      "metadata": {
        "id": "DUvGIqM-j3Bh",
        "colab_type": "code",
        "colab": {}
      },
      "source": [
        ""
      ],
      "execution_count": null,
      "outputs": []
    },
    {
      "cell_type": "markdown",
      "metadata": {
        "id": "jFISpLPnj7Hv",
        "colab_type": "text"
      },
      "source": [
        "Assignment 1\n"
      ]
    },
    {
      "cell_type": "code",
      "metadata": {
        "id": "8kN3_HyZj-Cv",
        "colab_type": "code",
        "colab": {}
      },
      "source": [
        "class bank_acc():\n",
        "    def __init__(self,ownerName,balance):\n",
        "        self.ownerName = ownerName\n",
        "        self.balance = balance\n",
        "    \n",
        "    def withdraw(self,amount):\n",
        "        if int(amount) <= self.balance :\n",
        "            self.balance = self.balance - amount\n",
        "            amt = str(amount)\n",
        "            return 'Withdraw of ₹' + amt +' Successful!!!' \n",
        "        else :\n",
        "            return 'Insufficiant Balance'\n",
        "\n",
        "    def deposit(self,amount):\n",
        "        self.balance = self.balance + amount\n",
        "        bal = str(self.balance)\n",
        "        return 'Deposit Successful. Updated Balance: ₹' + bal"
      ],
      "execution_count": 1,
      "outputs": []
    },
    {
      "cell_type": "code",
      "metadata": {
        "id": "29H-94FtkOKO",
        "colab_type": "code",
        "colab": {}
      },
      "source": [
        "a = bank_acc('pratibha',5000)\n"
      ],
      "execution_count": 2,
      "outputs": []
    },
    {
      "cell_type": "code",
      "metadata": {
        "id": "WcK26p6OkXM-",
        "colab_type": "code",
        "colab": {
          "base_uri": "https://localhost:8080/",
          "height": 35
        },
        "outputId": "e6d764e9-c8bb-40e8-c2ac-195690f53f72"
      },
      "source": [
        "a.withdraw(300)"
      ],
      "execution_count": 3,
      "outputs": [
        {
          "output_type": "execute_result",
          "data": {
            "application/vnd.google.colaboratory.intrinsic+json": {
              "type": "string"
            },
            "text/plain": [
              "'Withdraw of ₹300 Successful!!!'"
            ]
          },
          "metadata": {
            "tags": []
          },
          "execution_count": 3
        }
      ]
    },
    {
      "cell_type": "code",
      "metadata": {
        "id": "-GMMZCN0kZMu",
        "colab_type": "code",
        "colab": {
          "base_uri": "https://localhost:8080/",
          "height": 34
        },
        "outputId": "face67f3-b7d8-448a-a6bf-6bab15694207"
      },
      "source": [
        "a.balance"
      ],
      "execution_count": 5,
      "outputs": [
        {
          "output_type": "execute_result",
          "data": {
            "text/plain": [
              "4700"
            ]
          },
          "metadata": {
            "tags": []
          },
          "execution_count": 5
        }
      ]
    },
    {
      "cell_type": "code",
      "metadata": {
        "id": "rN9gFYIVkr2e",
        "colab_type": "code",
        "colab": {
          "base_uri": "https://localhost:8080/",
          "height": 35
        },
        "outputId": "923dff3e-e01e-4053-ff80-e672cf1cf21f"
      },
      "source": [
        "a.deposit(1000)"
      ],
      "execution_count": 6,
      "outputs": [
        {
          "output_type": "execute_result",
          "data": {
            "application/vnd.google.colaboratory.intrinsic+json": {
              "type": "string"
            },
            "text/plain": [
              "'Deposit Successful. Updated Balance: ₹5700'"
            ]
          },
          "metadata": {
            "tags": []
          },
          "execution_count": 6
        }
      ]
    },
    {
      "cell_type": "code",
      "metadata": {
        "id": "Meuq2kv4kt_N",
        "colab_type": "code",
        "colab": {
          "base_uri": "https://localhost:8080/",
          "height": 34
        },
        "outputId": "7cc631b2-9203-40a3-d513-96fac83d7b17"
      },
      "source": [
        "a.balance"
      ],
      "execution_count": 7,
      "outputs": [
        {
          "output_type": "execute_result",
          "data": {
            "text/plain": [
              "5700"
            ]
          },
          "metadata": {
            "tags": []
          },
          "execution_count": 7
        }
      ]
    },
    {
      "cell_type": "code",
      "metadata": {
        "id": "NQvSbD3TkyGk",
        "colab_type": "code",
        "colab": {
          "base_uri": "https://localhost:8080/",
          "height": 35
        },
        "outputId": "72427d2d-a70b-486e-a00e-b0316c25afec"
      },
      "source": [
        "a.ownerName"
      ],
      "execution_count": 8,
      "outputs": [
        {
          "output_type": "execute_result",
          "data": {
            "application/vnd.google.colaboratory.intrinsic+json": {
              "type": "string"
            },
            "text/plain": [
              "'pratibha'"
            ]
          },
          "metadata": {
            "tags": []
          },
          "execution_count": 8
        }
      ]
    },
    {
      "cell_type": "code",
      "metadata": {
        "id": "N8G_TAgyk1B0",
        "colab_type": "code",
        "colab": {
          "base_uri": "https://localhost:8080/",
          "height": 35
        },
        "outputId": "9d18945c-7ffe-41f3-ba32-8828f2b36c76"
      },
      "source": [
        "a.deposit(1000)"
      ],
      "execution_count": 9,
      "outputs": [
        {
          "output_type": "execute_result",
          "data": {
            "application/vnd.google.colaboratory.intrinsic+json": {
              "type": "string"
            },
            "text/plain": [
              "'Deposit Successful. Updated Balance: ₹6700'"
            ]
          },
          "metadata": {
            "tags": []
          },
          "execution_count": 9
        }
      ]
    },
    {
      "cell_type": "code",
      "metadata": {
        "id": "XcNrWD2zk9Ed",
        "colab_type": "code",
        "colab": {
          "base_uri": "https://localhost:8080/",
          "height": 35
        },
        "outputId": "d7a5a63b-c5b6-42b0-9286-f4f0cdbefb6c"
      },
      "source": [
        "a.withdraw(1700)"
      ],
      "execution_count": 10,
      "outputs": [
        {
          "output_type": "execute_result",
          "data": {
            "application/vnd.google.colaboratory.intrinsic+json": {
              "type": "string"
            },
            "text/plain": [
              "'Withdraw of ₹1700 Successful!!!'"
            ]
          },
          "metadata": {
            "tags": []
          },
          "execution_count": 10
        }
      ]
    },
    {
      "cell_type": "code",
      "metadata": {
        "id": "KKMA-8jylLCm",
        "colab_type": "code",
        "colab": {
          "base_uri": "https://localhost:8080/",
          "height": 34
        },
        "outputId": "3301cc36-eba9-4f66-c95b-71372a27579a"
      },
      "source": [
        "a.balance"
      ],
      "execution_count": 11,
      "outputs": [
        {
          "output_type": "execute_result",
          "data": {
            "text/plain": [
              "5000"
            ]
          },
          "metadata": {
            "tags": []
          },
          "execution_count": 11
        }
      ]
    },
    {
      "cell_type": "code",
      "metadata": {
        "id": "3P6nRyWAlPo2",
        "colab_type": "code",
        "colab": {
          "base_uri": "https://localhost:8080/",
          "height": 35
        },
        "outputId": "3f325edb-996b-41a2-cfde-549d56f89762"
      },
      "source": [
        "a.withdraw(5555)"
      ],
      "execution_count": 12,
      "outputs": [
        {
          "output_type": "execute_result",
          "data": {
            "application/vnd.google.colaboratory.intrinsic+json": {
              "type": "string"
            },
            "text/plain": [
              "'Insufficiant Balance'"
            ]
          },
          "metadata": {
            "tags": []
          },
          "execution_count": 12
        }
      ]
    },
    {
      "cell_type": "markdown",
      "metadata": {
        "id": "qGi4EARYleYi",
        "colab_type": "text"
      },
      "source": [
        "Assignment 2"
      ]
    },
    {
      "cell_type": "code",
      "metadata": {
        "id": "dEb-Bz0Dlg5s",
        "colab_type": "code",
        "colab": {}
      },
      "source": [
        "import math\n",
        "class cone():\n",
        "    def __init__(self,radius,height):\n",
        "        self.radius = radius\n",
        "        self.height = height\n",
        "\n",
        "    def Volume(self):\n",
        "        return  math.pi*(self.radius**2)*(self.height/3)\n",
        "\n",
        "    def SurfaceArea(self,a):\n",
        "        if a == 'base':\n",
        "            return math.pi *(self.radius**2)\n",
        "        elif a == 'side':\n",
        "            return math.pi * self.radius * (math.sqrt((self.radius**2)+(self.height**2)))"
      ],
      "execution_count": 13,
      "outputs": []
    },
    {
      "cell_type": "code",
      "metadata": {
        "id": "_14TWbTUlvTy",
        "colab_type": "code",
        "colab": {}
      },
      "source": [
        "c = cone(6,9)"
      ],
      "execution_count": 14,
      "outputs": []
    },
    {
      "cell_type": "code",
      "metadata": {
        "id": "LNSqF2KKlzUq",
        "colab_type": "code",
        "colab": {
          "base_uri": "https://localhost:8080/",
          "height": 34
        },
        "outputId": "1b978c8d-58ae-4b76-82f3-8223910a1190"
      },
      "source": [
        "c.Volume()"
      ],
      "execution_count": 15,
      "outputs": [
        {
          "output_type": "execute_result",
          "data": {
            "text/plain": [
              "339.29200658769764"
            ]
          },
          "metadata": {
            "tags": []
          },
          "execution_count": 15
        }
      ]
    },
    {
      "cell_type": "code",
      "metadata": {
        "id": "xY7xg2-fl5CT",
        "colab_type": "code",
        "colab": {
          "base_uri": "https://localhost:8080/",
          "height": 34
        },
        "outputId": "1c36c68e-5e7f-474a-b762-1739b14a2359"
      },
      "source": [
        "c.SurfaceArea('base')"
      ],
      "execution_count": 16,
      "outputs": [
        {
          "output_type": "execute_result",
          "data": {
            "text/plain": [
              "113.09733552923255"
            ]
          },
          "metadata": {
            "tags": []
          },
          "execution_count": 16
        }
      ]
    },
    {
      "cell_type": "code",
      "metadata": {
        "id": "yjR7SBOol8qS",
        "colab_type": "code",
        "colab": {
          "base_uri": "https://localhost:8080/",
          "height": 34
        },
        "outputId": "917c5a50-9692-4240-b668-69ad9c8e08ff"
      },
      "source": [
        "c.SurfaceArea('side')"
      ],
      "execution_count": 17,
      "outputs": [
        {
          "output_type": "execute_result",
          "data": {
            "text/plain": [
              "203.88912118450162"
            ]
          },
          "metadata": {
            "tags": []
          },
          "execution_count": 17
        }
      ]
    },
    {
      "cell_type": "code",
      "metadata": {
        "id": "qYGFc_LzmAT6",
        "colab_type": "code",
        "colab": {}
      },
      "source": [
        "d = cone(2,2)"
      ],
      "execution_count": 18,
      "outputs": []
    },
    {
      "cell_type": "code",
      "metadata": {
        "id": "gsY9PpjvmCnB",
        "colab_type": "code",
        "colab": {
          "base_uri": "https://localhost:8080/",
          "height": 34
        },
        "outputId": "94585d72-82b4-40d8-f4eb-c7b6f44d4e0e"
      },
      "source": [
        "d.Volume()"
      ],
      "execution_count": 19,
      "outputs": [
        {
          "output_type": "execute_result",
          "data": {
            "text/plain": [
              "8.377580409572781"
            ]
          },
          "metadata": {
            "tags": []
          },
          "execution_count": 19
        }
      ]
    }
  ]
}