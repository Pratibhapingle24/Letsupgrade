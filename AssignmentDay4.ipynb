{
  "nbformat": 4,
  "nbformat_minor": 0,
  "metadata": {
    "colab": {
      "name": "AssignmentDay4.ipynb",
      "provenance": []
    },
    "kernelspec": {
      "name": "python3",
      "display_name": "Python 3"
    }
  },
  "cells": [
    {
      "cell_type": "code",
      "metadata": {
        "id": "MV31WfYzdNdB",
        "colab_type": "code",
        "colab": {}
      },
      "source": [
        ""
      ],
      "execution_count": null,
      "outputs": []
    },
    {
      "cell_type": "markdown",
      "metadata": {
        "id": "0SdS2PbxdRm-",
        "colab_type": "text"
      },
      "source": [
        "Assignment 1\n"
      ]
    },
    {
      "cell_type": "code",
      "metadata": {
        "id": "ltjfntfqdTdt",
        "colab_type": "code",
        "colab": {
          "base_uri": "https://localhost:8080/",
          "height": 34
        },
        "outputId": "2ae16102-6a1f-4739-b0d2-fd13406146f8"
      },
      "source": [
        "num1 = 1042000\n",
        "num2 = 702648265\n",
        "\n",
        "for num in range(num1, num2 + 1):\n",
        "    order = len(str(num))\n",
        "    total = 0\n",
        "    temp = num\n",
        "    while temp > 0:\n",
        "        digit = temp % 10\n",
        "        total += digit ** order\n",
        "        temp //= 10\n",
        "\n",
        "    if num == total:\n",
        "        print(num)\n",
        "        break"
      ],
      "execution_count": 2,
      "outputs": [
        {
          "output_type": "stream",
          "text": [
            "1741725\n"
          ],
          "name": "stdout"
        }
      ]
    }
  ]
}