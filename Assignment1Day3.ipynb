{
  "nbformat": 4,
  "nbformat_minor": 0,
  "metadata": {
    "colab": {
      "name": "Assignment1Day3.ipynb",
      "provenance": [],
      "collapsed_sections": []
    },
    "kernelspec": {
      "name": "python3",
      "display_name": "Python 3"
    }
  },
  "cells": [
    {
      "cell_type": "code",
      "metadata": {
        "id": "4pwv6guGZmyp",
        "colab_type": "code",
        "colab": {
          "base_uri": "https://localhost:8080/",
          "height": 51
        },
        "outputId": "fbe9b12d-8e22-4ef9-9247-56e087e0cc17"
      },
      "source": [
        "alt = int(input('Enter altitude: - '))\n",
        "if alt <= 1000:\n",
        "    print('Safe to land')\n",
        "elif 1000 < alt < 5000:\n",
        "    print('Come down to 1000ft')\n",
        "else:\n",
        "    print('Go around and try later')"
      ],
      "execution_count": 3,
      "outputs": [
        {
          "output_type": "stream",
          "text": [
            "Enter altitude: - 6700\n",
            "Go around and try later\n"
          ],
          "name": "stdout"
        }
      ]
    }
  ]
}