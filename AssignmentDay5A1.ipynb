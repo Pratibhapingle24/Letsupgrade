{
  "nbformat": 4,
  "nbformat_minor": 0,
  "metadata": {
    "colab": {
      "name": "AssignmentDay5A1.ipynb",
      "provenance": [],
      "collapsed_sections": []
    },
    "kernelspec": {
      "name": "python3",
      "display_name": "Python 3"
    }
  },
  "cells": [
    {
      "cell_type": "markdown",
      "metadata": {
        "id": "TIj6Uao5e7vN",
        "colab_type": "text"
      },
      "source": [
        "Assignment 1\n"
      ]
    },
    {
      "cell_type": "code",
      "metadata": {
        "id": "RRpcfZqve-Df",
        "colab_type": "code",
        "colab": {}
      },
      "source": [
        "def SubList(lis):\n",
        "    k=0\n",
        "    sublst=[1,1,5]\n",
        "    sublst1=[]\n",
        "    for i in range(0,3):\n",
        "        for j in range(k,len(lis)):\n",
        "            if lis[j]==sublst[i]:\n",
        "                sublst1.append(lis[j])\n",
        "                k=j+1\n",
        "                break\n",
        "    if sublst==sublst1:\n",
        "        print(\"It's a Match\")\n",
        "    else:\n",
        "        print(\"It's Gone\")"
      ],
      "execution_count": null,
      "outputs": []
    },
    {
      "cell_type": "code",
      "metadata": {
        "id": "e4eCotqmfbEv",
        "colab_type": "code",
        "colab": {
          "base_uri": "https://localhost:8080/",
          "height": 34
        },
        "outputId": "c749efa1-438f-4a8c-c298-40eedfe574b5"
      },
      "source": [
        "lis=[1,5,6,4,1,2,3,5]\n",
        "SubList(lis)"
      ],
      "execution_count": null,
      "outputs": [
        {
          "output_type": "stream",
          "text": [
            "It's a Match\n"
          ],
          "name": "stdout"
        }
      ]
    },
    {
      "cell_type": "code",
      "metadata": {
        "id": "9bp-4zhrgHZE",
        "colab_type": "code",
        "colab": {
          "base_uri": "https://localhost:8080/",
          "height": 34
        },
        "outputId": "14f3526f-ee57-494d-f276-bb16dc1d871a"
      },
      "source": [
        "lis=[1,5,6,5,1,2,3,6]\n",
        "SubList(lis)"
      ],
      "execution_count": null,
      "outputs": [
        {
          "output_type": "stream",
          "text": [
            "It's Gone\n"
          ],
          "name": "stdout"
        }
      ]
    }
  ]
}