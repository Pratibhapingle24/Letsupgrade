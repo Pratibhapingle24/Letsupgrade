{
  "nbformat": 4,
  "nbformat_minor": 0,
  "metadata": {
    "colab": {
      "name": "AssignmentDay5A3.ipynb",
      "provenance": [],
      "collapsed_sections": []
    },
    "kernelspec": {
      "name": "python3",
      "display_name": "Python 3"
    }
  },
  "cells": [
    {
      "cell_type": "markdown",
      "metadata": {
        "id": "JJkzAdQDo4EX",
        "colab_type": "text"
      },
      "source": [
        "Assignment 3"
      ]
    },
    {
      "cell_type": "code",
      "metadata": {
        "id": "dCTuuOXpo56Q",
        "colab_type": "code",
        "colab": {
          "base_uri": "https://localhost:8080/",
          "height": 34
        },
        "outputId": "3c33c638-4703-464c-ffbc-7d64002076a6"
      },
      "source": [
        "str=[\"hey this is pratibha\",\"i am in nashik\"]\n",
        "print(str)"
      ],
      "execution_count": 2,
      "outputs": [
        {
          "output_type": "stream",
          "text": [
            "['hey this is pratibha', 'i am in nashik']\n"
          ],
          "name": "stdout"
        }
      ]
    },
    {
      "cell_type": "code",
      "metadata": {
        "id": "iVNa6mxwpTiw",
        "colab_type": "code",
        "colab": {}
      },
      "source": [
        "temp_lst=map(lambda s:s.title(),str)"
      ],
      "execution_count": 3,
      "outputs": []
    },
    {
      "cell_type": "code",
      "metadata": {
        "id": "6ucKekvCpWWQ",
        "colab_type": "code",
        "colab": {
          "base_uri": "https://localhost:8080/",
          "height": 34
        },
        "outputId": "8cca76d6-3a27-4ee7-b5e7-11d26a0fd10d"
      },
      "source": [
        "list(temp_lst)"
      ],
      "execution_count": 4,
      "outputs": [
        {
          "output_type": "execute_result",
          "data": {
            "text/plain": [
              "['Hey This Is Pratibha', 'I Am In Nashik']"
            ]
          },
          "metadata": {
            "tags": []
          },
          "execution_count": 4
        }
      ]
    }
  ]
}