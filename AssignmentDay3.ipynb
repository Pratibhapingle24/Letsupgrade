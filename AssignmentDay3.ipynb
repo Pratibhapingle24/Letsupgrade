{
  "nbformat": 4,
  "nbformat_minor": 0,
  "metadata": {
    "colab": {
      "name": "AssignmentDay3.ipynb",
      "provenance": [],
      "collapsed_sections": []
    },
    "kernelspec": {
      "name": "python3",
      "display_name": "Python 3"
    }
  },
  "cells": [
    {
      "cell_type": "markdown",
      "metadata": {
        "id": "irjYN3v5bG1L",
        "colab_type": "text"
      },
      "source": [
        "Assignment 1\n"
      ]
    },
    {
      "cell_type": "code",
      "metadata": {
        "id": "4pwv6guGZmyp",
        "colab_type": "code",
        "colab": {
          "base_uri": "https://localhost:8080/",
          "height": 51
        },
        "outputId": "fbe9b12d-8e22-4ef9-9247-56e087e0cc17"
      },
      "source": [
        "alt = int(input('Enter altitude: - '))\n",
        "if alt <= 1000:\n",
        "    print('Safe to land')\n",
        "elif 1000 < alt < 5000:\n",
        "    print('Come down to 1000ft')\n",
        "else:\n",
        "    print('Go around and try later')"
      ],
      "execution_count": 3,
      "outputs": [
        {
          "output_type": "stream",
          "text": [
            "Enter altitude: - 6700\n",
            "Go around and try later\n"
          ],
          "name": "stdout"
        }
      ]
    },
    {
      "cell_type": "code",
      "metadata": {
        "id": "fd8AqAUQbGEG",
        "colab_type": "code",
        "colab": {}
      },
      "source": [
        ""
      ],
      "execution_count": null,
      "outputs": []
    },
    {
      "cell_type": "markdown",
      "metadata": {
        "id": "KALT650ObOHD",
        "colab_type": "text"
      },
      "source": [
        "Assignment 2\n"
      ]
    },
    {
      "cell_type": "code",
      "metadata": {
        "id": "afRiHf-SbSwE",
        "colab_type": "code",
        "colab": {
          "base_uri": "https://localhost:8080/",
          "height": 799
        },
        "outputId": "d0698924-8435-4faa-c9c9-7d5baee1b05a"
      },
      "source": [
        "num1 = 00\n",
        "num2 = 200\n",
        "for n in range(num1, num2 + 1):\n",
        "    if n > 1:\n",
        "        for i in range(2, n):\n",
        "            if (n % i) == 0:\n",
        "                break\n",
        "        else:\n",
        "            print(n)"
      ],
      "execution_count": 4,
      "outputs": [
        {
          "output_type": "stream",
          "text": [
            "2\n",
            "3\n",
            "5\n",
            "7\n",
            "11\n",
            "13\n",
            "17\n",
            "19\n",
            "23\n",
            "29\n",
            "31\n",
            "37\n",
            "41\n",
            "43\n",
            "47\n",
            "53\n",
            "59\n",
            "61\n",
            "67\n",
            "71\n",
            "73\n",
            "79\n",
            "83\n",
            "89\n",
            "97\n",
            "101\n",
            "103\n",
            "107\n",
            "109\n",
            "113\n",
            "127\n",
            "131\n",
            "137\n",
            "139\n",
            "149\n",
            "151\n",
            "157\n",
            "163\n",
            "167\n",
            "173\n",
            "179\n",
            "181\n",
            "191\n",
            "193\n",
            "197\n",
            "199\n"
          ],
          "name": "stdout"
        }
      ]
    }
  ]
}