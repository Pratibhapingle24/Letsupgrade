{
  "nbformat": 4,
  "nbformat_minor": 0,
  "metadata": {
    "colab": {
      "name": "AssignmentDay8",
      "provenance": []
    },
    "kernelspec": {
      "name": "python3",
      "display_name": "Python 3"
    }
  },
  "cells": [
    {
      "cell_type": "markdown",
      "metadata": {
        "id": "IWNB0KMmLl_G",
        "colab_type": "text"
      },
      "source": [
        "Assignment 1"
      ]
    },
    {
      "cell_type": "code",
      "metadata": {
        "id": "7myBjlLkLnk7",
        "colab_type": "code",
        "colab": {}
      },
      "source": [
        "def take_input(calculate_arg_function):\n",
        "    def wrap_function():\n",
        "        a=int(input(\"Enter the number:  \"))\n",
        "        calculate_arg_function(a)\n",
        "    return wrap_function"
      ],
      "execution_count": 2,
      "outputs": []
    },
    {
      "cell_type": "code",
      "metadata": {
        "id": "fhsOehKoLvpC",
        "colab_type": "code",
        "colab": {}
      },
      "source": [
        "@take_input\n",
        "def fibo(n):\n",
        "    t1=0\n",
        "    t2=1\n",
        "    print(\"Fibonacci Series : \")\n",
        "    for i in range(0,n):\n",
        "        print(t1)\n",
        "        nextterm=t1+t2\n",
        "        t1=t2\n",
        "        t2=nextterm"
      ],
      "execution_count": 3,
      "outputs": []
    },
    {
      "cell_type": "code",
      "metadata": {
        "id": "BKjahExOLx3K",
        "colab_type": "code",
        "colab": {
          "base_uri": "https://localhost:8080/",
          "height": 187
        },
        "outputId": "24550f5e-936b-41aa-fae9-b5410b430427"
      },
      "source": [
        "fibo()"
      ],
      "execution_count": 4,
      "outputs": [
        {
          "output_type": "stream",
          "text": [
            "Enter the number:  8\n",
            "Fibonacci Series : \n",
            "0\n",
            "1\n",
            "1\n",
            "2\n",
            "3\n",
            "5\n",
            "8\n",
            "13\n"
          ],
          "name": "stdout"
        }
      ]
    },
    {
      "cell_type": "markdown",
      "metadata": {
        "id": "CGs0j26RL5Qj",
        "colab_type": "text"
      },
      "source": [
        "Assignment 2"
      ]
    },
    {
      "cell_type": "code",
      "metadata": {
        "id": "M-c3K98SL7Tj",
        "colab_type": "code",
        "colab": {}
      },
      "source": [
        "file=open(\"File1.txt\",\"w\")\n",
        "file.write(\"Hello guys how are you?\")\n",
        "file.close()"
      ],
      "execution_count": 5,
      "outputs": []
    },
    {
      "cell_type": "code",
      "metadata": {
        "id": "8PJONqK3MC_w",
        "colab_type": "code",
        "colab": {
          "base_uri": "https://localhost:8080/",
          "height": 34
        },
        "outputId": "293c97f6-80e5-42cd-f734-dfae30108e86"
      },
      "source": [
        "try:\n",
        "    file=open(\"file1.txt\",\"r\")\n",
        "    file.write(\"Hello...!\")\n",
        "    file.close()\n",
        "except:\n",
        "    print(\"The file is open in read mode so can't perform write operation on this file\")"
      ],
      "execution_count": 6,
      "outputs": [
        {
          "output_type": "stream",
          "text": [
            "The file is open in read mode so can't perform write operation on this file\n"
          ],
          "name": "stdout"
        }
      ]
    }
  ]
}