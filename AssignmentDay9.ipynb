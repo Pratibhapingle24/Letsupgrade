{
  "nbformat": 4,
  "nbformat_minor": 0,
  "metadata": {
    "colab": {
      "name": "AssignmentDay9.ipynb",
      "provenance": []
    },
    "kernelspec": {
      "name": "python3",
      "display_name": "Python 3"
    }
  },
  "cells": [
    {
      "cell_type": "markdown",
      "metadata": {
        "id": "QLOji_chV9CR",
        "colab_type": "text"
      },
      "source": [
        "Assignment 1"
      ]
    },
    {
      "cell_type": "code",
      "metadata": {
        "id": "KEtvEBL9V_Zq",
        "colab_type": "code",
        "colab": {
          "base_uri": "https://localhost:8080/",
          "height": 190
        },
        "outputId": "f50522f2-0d99-418b-cca3-f4866a68ccdb"
      },
      "source": [
        " pip install pylint\n"
      ],
      "execution_count": 4,
      "outputs": [
        {
          "output_type": "stream",
          "text": [
            "Requirement already satisfied: pylint in /usr/local/lib/python3.6/dist-packages (2.6.0)\n",
            "Requirement already satisfied: isort<6,>=4.2.5 in /usr/local/lib/python3.6/dist-packages (from pylint) (5.5.2)\n",
            "Requirement already satisfied: mccabe<0.7,>=0.6 in /usr/local/lib/python3.6/dist-packages (from pylint) (0.6.1)\n",
            "Requirement already satisfied: astroid<=2.5,>=2.4.0 in /usr/local/lib/python3.6/dist-packages (from pylint) (2.4.2)\n",
            "Requirement already satisfied: toml>=0.7.1 in /usr/local/lib/python3.6/dist-packages (from pylint) (0.10.1)\n",
            "Requirement already satisfied: typed-ast<1.5,>=1.4.0; implementation_name == \"cpython\" and python_version < \"3.8\" in /usr/local/lib/python3.6/dist-packages (from astroid<=2.5,>=2.4.0->pylint) (1.4.1)\n",
            "Requirement already satisfied: six~=1.12 in /usr/local/lib/python3.6/dist-packages (from astroid<=2.5,>=2.4.0->pylint) (1.15.0)\n",
            "Requirement already satisfied: lazy-object-proxy==1.4.* in /usr/local/lib/python3.6/dist-packages (from astroid<=2.5,>=2.4.0->pylint) (1.4.3)\n",
            "Requirement already satisfied: wrapt~=1.11 in /usr/local/lib/python3.6/dist-packages (from astroid<=2.5,>=2.4.0->pylint) (1.12.1)\n"
          ],
          "name": "stdout"
        }
      ]
    },
    {
      "cell_type": "code",
      "metadata": {
        "id": "d0snEX9EWPjR",
        "colab_type": "code",
        "colab": {
          "base_uri": "https://localhost:8080/",
          "height": 34
        },
        "outputId": "35e37df5-b989-44c1-ae1a-ebd397b53000"
      },
      "source": [
        "%%writefile prime_number.py\n",
        "'''\n",
        "Hey this is python file for prime number\n",
        "'''\n",
        "def prime_no(num):\n",
        "    '''\n",
        "    Hey this is a prime number function\n",
        "    '''\n",
        "    temp = 0\n",
        "    for i in range(2, num):\n",
        "        if num%i == 0:\n",
        "            temp = 1\n",
        "    if temp == 0:\n",
        "        return True"
      ],
      "execution_count": 5,
      "outputs": [
        {
          "output_type": "stream",
          "text": [
            "Overwriting prime_number.py\n"
          ],
          "name": "stdout"
        }
      ]
    },
    {
      "cell_type": "code",
      "metadata": {
        "id": "FfmTFmsjWEXo",
        "colab_type": "code",
        "colab": {
          "base_uri": "https://localhost:8080/",
          "height": 136
        },
        "outputId": "b5a9c2ec-dddd-486b-c5ba-d0503641f26b"
      },
      "source": [
        "! pylint prime_number"
      ],
      "execution_count": 6,
      "outputs": [
        {
          "output_type": "stream",
          "text": [
            "************* Module prime_number\n",
            "prime_number.py:13:0: C0304: Final newline missing (missing-final-newline)\n",
            "prime_number.py:4:0: R1710: Either all return statements in a function should return an expression, or none of them should. (inconsistent-return-statements)\n",
            "\n",
            "-----------------------------------\n",
            "Your code has been rated at 7.14/10\n",
            "\n"
          ],
          "name": "stdout"
        }
      ]
    },
    {
      "cell_type": "code",
      "metadata": {
        "id": "opIH2lPlWlY3",
        "colab_type": "code",
        "colab": {
          "base_uri": "https://localhost:8080/",
          "height": 34
        },
        "outputId": "78879ea1-709d-46c1-9bdb-606aa25dfcdb"
      },
      "source": [
        "import prime_number\n",
        "prime_number.prime_no(7)"
      ],
      "execution_count": 7,
      "outputs": [
        {
          "output_type": "execute_result",
          "data": {
            "text/plain": [
              "True"
            ]
          },
          "metadata": {
            "tags": []
          },
          "execution_count": 7
        }
      ]
    },
    {
      "cell_type": "code",
      "metadata": {
        "id": "D7NYBOUzWkih",
        "colab_type": "code",
        "colab": {
          "base_uri": "https://localhost:8080/",
          "height": 34
        },
        "outputId": "b1293daf-4493-401a-ae07-214e67e007bb"
      },
      "source": [
        "\n",
        "%%writefile test_prime_number\n",
        "import unittest\n",
        "import prime_number\n",
        "\n",
        "class test_prime_no(unittest.TestCase):\n",
        "    def test_no(self):\n",
        "        a = 7\n",
        "        result = prime_number.prime_no(a)\n",
        "        self.assertEqual(result, True)\n",
        "        \n",
        "if __name__ == \"__main__\":\n",
        "    unittest.main()\n"
      ],
      "execution_count": 8,
      "outputs": [
        {
          "output_type": "stream",
          "text": [
            "Writing test_prime_number\n"
          ],
          "name": "stdout"
        }
      ]
    },
    {
      "cell_type": "code",
      "metadata": {
        "id": "S_NwMDOOWx-x",
        "colab_type": "code",
        "colab": {}
      },
      "source": [
        "! python test_prime_number"
      ],
      "execution_count": 8,
      "outputs": []
    },
    {
      "cell_type": "markdown",
      "metadata": {
        "id": "UCOia1VvW8oJ",
        "colab_type": "text"
      },
      "source": [
        "Assignment 2"
      ]
    },
    {
      "cell_type": "code",
      "metadata": {
        "id": "G9Jcg8vWW-nu",
        "colab_type": "code",
        "colab": {}
      },
      "source": [
        "\n",
        "def arm_strong_no(lst):\n",
        "    for num in lst:\n",
        "        order=len(str(num))\n",
        "        total=0\n",
        "        temp=num\n",
        "        while temp>0:\n",
        "            digit=temp%10\n",
        "            total+=digit ** order\n",
        "            temp//=10\n",
        "        if num==total:\n",
        "            yield num"
      ],
      "execution_count": 9,
      "outputs": []
    },
    {
      "cell_type": "code",
      "metadata": {
        "id": "hUSg0msmXHLA",
        "colab_type": "code",
        "colab": {}
      },
      "source": [
        "lst = list(range(1, 1000))"
      ],
      "execution_count": 10,
      "outputs": []
    },
    {
      "cell_type": "code",
      "metadata": {
        "id": "mxsJWvVKXLjJ",
        "colab_type": "code",
        "colab": {
          "base_uri": "https://localhost:8080/",
          "height": 34
        },
        "outputId": "8931b6eb-510d-4c5a-ec00-2fe1e72a7995"
      },
      "source": [
        "print(list(arm_strong_no(lst)))"
      ],
      "execution_count": 11,
      "outputs": [
        {
          "output_type": "stream",
          "text": [
            "[1, 2, 3, 4, 5, 6, 7, 8, 9, 153, 370, 371, 407]\n"
          ],
          "name": "stdout"
        }
      ]
    }
  ]
}